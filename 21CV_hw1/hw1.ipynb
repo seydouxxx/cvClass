{
 "cells": [
  {
   "cell_type": "markdown",
   "metadata": {},
   "source": [
    "# HW#1\n",
    "HW1의 각 문항에 대한 실행 코드 블록을 아래의 예시처럼 작성하시기 바랍니다."
   ]
  },
  {
   "cell_type": "markdown",
   "metadata": {},
   "source": [
    "(예시) 1.A"
   ]
  },
  {
   "cell_type": "code",
   "execution_count": null,
   "metadata": {},
   "outputs": [],
   "source": [
    "import numpy as np\n",
    "\n",
    "a = np.array([-1, 2, 5])\n",
    "b = np.array([[-1], [2], [5]])\n",
    "M = np.zeros((4,3))\n",
    "print(\"M = \\n\", M)\n",
    "print(\"The size of M is: \", M.shape)\n",
    "print()\n",
    "print(\"a = \", a)\n",
    "print(\"The size of a is: \", a.shape)\n",
    "print()\n",
    "print(\"b = \", b)\n",
    "print(\"The size of b is: \", b.shape)"
   ]
  }
 ],
 "metadata": {
  "kernelspec": {
   "display_name": "Python 3",
   "language": "python",
   "name": "python3"
  },
  "language_info": {
   "codemirror_mode": {
    "name": "ipython",
    "version": 3
   },
   "file_extension": ".py",
   "mimetype": "text/x-python",
   "name": "python",
   "nbconvert_exporter": "python",
   "pygments_lexer": "ipython3",
   "version": "3.8.2"
  }
 },
 "nbformat": 4,
 "nbformat_minor": 4
}
